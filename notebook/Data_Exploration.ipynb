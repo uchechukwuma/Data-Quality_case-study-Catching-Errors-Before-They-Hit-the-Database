{
 "cells": [
  {
   "cell_type": "code",
   "execution_count": 1,
   "id": "d864eaa3-1937-41ec-83e1-eb661b920cc6",
   "metadata": {},
   "outputs": [],
   "source": [
    "# Cell 1: Import all the key packages for the project\n",
    "import pandas as pd\n",
    "import numpy as np\n",
    "import openai\n",
    "import yaml\n",
    "from tenacity import retry, stop_after_attempt\n",
    "\n"
   ]
  },
  {
   "cell_type": "code",
   "execution_count": 2,
   "id": "7c56f678-7ee6-4e6c-a6bd-7d062b3bcf7a",
   "metadata": {},
   "outputs": [
    {
     "name": "stdout",
     "output_type": "stream",
     "text": [
      "All imports successful!\n",
      "Pandas version: 2.3.2\n"
     ]
    }
   ],
   "source": [
    "print(\"All imports successful!\")\n",
    "print(f\"Pandas version: {pd.__version__}\")"
   ]
  }
 ],
 "metadata": {
  "kernelspec": {
   "display_name": "Python (Data Quality)",
   "language": "python",
   "name": "data-quality-env"
  },
  "language_info": {
   "codemirror_mode": {
    "name": "ipython",
    "version": 3
   },
   "file_extension": ".py",
   "mimetype": "text/x-python",
   "name": "python",
   "nbconvert_exporter": "python",
   "pygments_lexer": "ipython3",
   "version": "3.12.4"
  }
 },
 "nbformat": 4,
 "nbformat_minor": 5
}
